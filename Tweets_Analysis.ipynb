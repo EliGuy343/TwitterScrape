{
 "cells": [
  {
   "cell_type": "code",
   "execution_count": 28,
   "id": "916dca96",
   "metadata": {},
   "outputs": [],
   "source": [
    "\n",
    "import pandas as pd\n",
    "import numpy as np"
   ]
  },
  {
   "cell_type": "code",
   "execution_count": 29,
   "id": "351f7a01",
   "metadata": {},
   "outputs": [],
   "source": [
    "twitter_tweets = pd.read_csv('tweets.csv')"
   ]
  },
  {
   "cell_type": "code",
   "execution_count": 30,
   "id": "e915e3a9",
   "metadata": {},
   "outputs": [
    {
     "data": {
      "text/html": [
       "<div>\n",
       "<style scoped>\n",
       "    .dataframe tbody tr th:only-of-type {\n",
       "        vertical-align: middle;\n",
       "    }\n",
       "\n",
       "    .dataframe tbody tr th {\n",
       "        vertical-align: top;\n",
       "    }\n",
       "\n",
       "    .dataframe thead th {\n",
       "        text-align: right;\n",
       "    }\n",
       "</style>\n",
       "<table border=\"1\" class=\"dataframe\">\n",
       "  <thead>\n",
       "    <tr style=\"text-align: right;\">\n",
       "      <th></th>\n",
       "      <th>Unnamed: 0</th>\n",
       "      <th>0</th>\n",
       "    </tr>\n",
       "  </thead>\n",
       "  <tbody>\n",
       "    <tr>\n",
       "      <th>0</th>\n",
       "      <td>0</td>\n",
       "      <td>Benjamin Netanyahu: “Beat them up, not once bu...</td>\n",
       "    </tr>\n",
       "    <tr>\n",
       "      <th>1</th>\n",
       "      <td>1</td>\n",
       "      <td>Joke of the day: war criminal Benjamin Netanya...</td>\n",
       "    </tr>\n",
       "    <tr>\n",
       "      <th>2</th>\n",
       "      <td>2</td>\n",
       "      <td>NaN</td>\n",
       "    </tr>\n",
       "    <tr>\n",
       "      <th>3</th>\n",
       "      <td>3</td>\n",
       "      <td>A casi dos años del término de su mandato, Be...</td>\n",
       "    </tr>\n",
       "    <tr>\n",
       "      <th>4</th>\n",
       "      <td>4</td>\n",
       "      <td>A aliança política de Benjamin Netanyahu conqu...</td>\n",
       "    </tr>\n",
       "    <tr>\n",
       "      <th>5</th>\n",
       "      <td>5</td>\n",
       "      <td>Israel's election happened on Tuesday. The res...</td>\n",
       "    </tr>\n",
       "    <tr>\n",
       "      <th>6</th>\n",
       "      <td>6</td>\n",
       "      <td>It looks like Benjamin Netanyahu is the winner...</td>\n",
       "    </tr>\n",
       "    <tr>\n",
       "      <th>7</th>\n",
       "      <td>7</td>\n",
       "      <td>Breaking News!!!\\n\\nBenjamin Netanyahu emerge ...</td>\n",
       "    </tr>\n",
       "    <tr>\n",
       "      <th>8</th>\n",
       "      <td>8</td>\n",
       "      <td>Israel is a stronger and safer place when Benj...</td>\n",
       "    </tr>\n",
       "    <tr>\n",
       "      <th>9</th>\n",
       "      <td>9</td>\n",
       "      <td>BIBI IS BACK!!\\n\\nBENJAMIN NETANYAHU IS BACK!!...</td>\n",
       "    </tr>\n",
       "  </tbody>\n",
       "</table>\n",
       "</div>"
      ],
      "text/plain": [
       "   Unnamed: 0                                                  0\n",
       "0           0  Benjamin Netanyahu: “Beat them up, not once bu...\n",
       "1           1  Joke of the day: war criminal Benjamin Netanya...\n",
       "2           2                                                NaN\n",
       "3           3   A casi dos años del término de su mandato, Be...\n",
       "4           4  A aliança política de Benjamin Netanyahu conqu...\n",
       "5           5  Israel's election happened on Tuesday. The res...\n",
       "6           6  It looks like Benjamin Netanyahu is the winner...\n",
       "7           7  Breaking News!!!\\n\\nBenjamin Netanyahu emerge ...\n",
       "8           8  Israel is a stronger and safer place when Benj...\n",
       "9           9  BIBI IS BACK!!\\n\\nBENJAMIN NETANYAHU IS BACK!!..."
      ]
     },
     "execution_count": 30,
     "metadata": {},
     "output_type": "execute_result"
    }
   ],
   "source": [
    "twitter_tweets[0:10]"
   ]
  },
  {
   "cell_type": "code",
   "execution_count": 31,
   "id": "3db87dbf",
   "metadata": {},
   "outputs": [
    {
     "data": {
      "text/plain": [
       "Unnamed: 0    0\n",
       "0             1\n",
       "dtype: int64"
      ]
     },
     "execution_count": 31,
     "metadata": {},
     "output_type": "execute_result"
    }
   ],
   "source": [
    "twitter_tweets.isnull().sum()"
   ]
  },
  {
   "cell_type": "code",
   "execution_count": 32,
   "id": "cced059e",
   "metadata": {},
   "outputs": [],
   "source": [
    "twitter_tweets = twitter_tweets.dropna()"
   ]
  },
  {
   "cell_type": "code",
   "execution_count": 33,
   "id": "702938ea",
   "metadata": {},
   "outputs": [],
   "source": [
    "def convert_lowercase(column):\n",
    "    column = column.str.lower()\n",
    "    return column"
   ]
  },
  {
   "cell_type": "code",
   "execution_count": 34,
   "id": "bb49ccd4",
   "metadata": {},
   "outputs": [
    {
     "data": {
      "text/html": [
       "<div>\n",
       "<style scoped>\n",
       "    .dataframe tbody tr th:only-of-type {\n",
       "        vertical-align: middle;\n",
       "    }\n",
       "\n",
       "    .dataframe tbody tr th {\n",
       "        vertical-align: top;\n",
       "    }\n",
       "\n",
       "    .dataframe thead th {\n",
       "        text-align: right;\n",
       "    }\n",
       "</style>\n",
       "<table border=\"1\" class=\"dataframe\">\n",
       "  <thead>\n",
       "    <tr style=\"text-align: right;\">\n",
       "      <th></th>\n",
       "      <th>Unnamed: 0</th>\n",
       "      <th>0</th>\n",
       "    </tr>\n",
       "  </thead>\n",
       "  <tbody>\n",
       "    <tr>\n",
       "      <th>0</th>\n",
       "      <td>0</td>\n",
       "      <td>benjamin netanyahu: “beat them up, not once bu...</td>\n",
       "    </tr>\n",
       "    <tr>\n",
       "      <th>1</th>\n",
       "      <td>1</td>\n",
       "      <td>joke of the day: war criminal benjamin netanya...</td>\n",
       "    </tr>\n",
       "    <tr>\n",
       "      <th>3</th>\n",
       "      <td>3</td>\n",
       "      <td>a casi dos años del término de su mandato, be...</td>\n",
       "    </tr>\n",
       "    <tr>\n",
       "      <th>4</th>\n",
       "      <td>4</td>\n",
       "      <td>a aliança política de benjamin netanyahu conqu...</td>\n",
       "    </tr>\n",
       "    <tr>\n",
       "      <th>5</th>\n",
       "      <td>5</td>\n",
       "      <td>israel's election happened on tuesday. the res...</td>\n",
       "    </tr>\n",
       "    <tr>\n",
       "      <th>...</th>\n",
       "      <td>...</td>\n",
       "      <td>...</td>\n",
       "    </tr>\n",
       "    <tr>\n",
       "      <th>106</th>\n",
       "      <td>106</td>\n",
       "      <td>prime minister yair lapid conceded israel’s el...</td>\n",
       "    </tr>\n",
       "    <tr>\n",
       "      <th>107</th>\n",
       "      <td>107</td>\n",
       "      <td>”praying for our success tomorrow.” - benjamin...</td>\n",
       "    </tr>\n",
       "    <tr>\n",
       "      <th>108</th>\n",
       "      <td>108</td>\n",
       "      <td>benjamin netanyahu is reclaiming his seat that...</td>\n",
       "    </tr>\n",
       "    <tr>\n",
       "      <th>109</th>\n",
       "      <td>109</td>\n",
       "      <td>benjamin netanyahu is currently before the cou...</td>\n",
       "    </tr>\n",
       "    <tr>\n",
       "      <th>110</th>\n",
       "      <td>110</td>\n",
       "      <td>the vote counting finished following tuesday's...</td>\n",
       "    </tr>\n",
       "  </tbody>\n",
       "</table>\n",
       "<p>110 rows × 2 columns</p>\n",
       "</div>"
      ],
      "text/plain": [
       "     Unnamed: 0                                                  0\n",
       "0             0  benjamin netanyahu: “beat them up, not once bu...\n",
       "1             1  joke of the day: war criminal benjamin netanya...\n",
       "3             3   a casi dos años del término de su mandato, be...\n",
       "4             4  a aliança política de benjamin netanyahu conqu...\n",
       "5             5  israel's election happened on tuesday. the res...\n",
       "..          ...                                                ...\n",
       "106         106  prime minister yair lapid conceded israel’s el...\n",
       "107         107  ”praying for our success tomorrow.” - benjamin...\n",
       "108         108  benjamin netanyahu is reclaiming his seat that...\n",
       "109         109  benjamin netanyahu is currently before the cou...\n",
       "110         110  the vote counting finished following tuesday's...\n",
       "\n",
       "[110 rows x 2 columns]"
      ]
     },
     "execution_count": 34,
     "metadata": {},
     "output_type": "execute_result"
    }
   ],
   "source": [
    "twitter_tweets['0'] = convert_lowercase(twitter_tweets['0'])\n",
    "twitter_tweets"
   ]
  },
  {
   "cell_type": "code",
   "execution_count": 35,
   "id": "1ecf849a",
   "metadata": {},
   "outputs": [],
   "source": [
    "import string\n",
    "exclude = string.punctuation\n",
    "\n",
    "def remove_punc(text):\n",
    "    return text.translate(str.maketrans('', '', exclude))"
   ]
  },
  {
   "cell_type": "code",
   "execution_count": 36,
   "id": "ba49f2f8",
   "metadata": {},
   "outputs": [
    {
     "data": {
      "text/plain": [
       "0      benjamin netanyahu: “beat them up, not once bu...\n",
       "1      joke of the day: war criminal benjamin netanya...\n",
       "3       a casi dos años del término de su mandato, be...\n",
       "4      a aliança política de benjamin netanyahu conqu...\n",
       "5      israel's election happened on tuesday. the res...\n",
       "                             ...                        \n",
       "106    prime minister yair lapid conceded israel’s el...\n",
       "107    ”praying for our success tomorrow.” - benjamin...\n",
       "108    benjamin netanyahu is reclaiming his seat that...\n",
       "109    benjamin netanyahu is currently before the cou...\n",
       "110    the vote counting finished following tuesday's...\n",
       "Name: 0, Length: 110, dtype: object"
      ]
     },
     "execution_count": 36,
     "metadata": {},
     "output_type": "execute_result"
    }
   ],
   "source": [
    "twitter_tweets['0']"
   ]
  },
  {
   "cell_type": "code",
   "execution_count": 37,
   "id": "df7a207f",
   "metadata": {},
   "outputs": [
    {
     "name": "stderr",
     "output_type": "stream",
     "text": [
      "/tmp/ipykernel_62782/3799092608.py:1: FutureWarning: The default value of regex will change from True to False in a future version.\n",
      "  twitter_tweets['0'] = twitter_tweets['0'].str.replace('[{}]'.format(string.punctuation), '')\n"
     ]
    }
   ],
   "source": [
    "twitter_tweets['0'] = twitter_tweets['0'].str.replace('[{}]'.format(string.punctuation), '')"
   ]
  },
  {
   "cell_type": "code",
   "execution_count": 40,
   "id": "560219b8",
   "metadata": {},
   "outputs": [
    {
     "data": {
      "text/html": [
       "<div>\n",
       "<style scoped>\n",
       "    .dataframe tbody tr th:only-of-type {\n",
       "        vertical-align: middle;\n",
       "    }\n",
       "\n",
       "    .dataframe tbody tr th {\n",
       "        vertical-align: top;\n",
       "    }\n",
       "\n",
       "    .dataframe thead th {\n",
       "        text-align: right;\n",
       "    }\n",
       "</style>\n",
       "<table border=\"1\" class=\"dataframe\">\n",
       "  <thead>\n",
       "    <tr style=\"text-align: right;\">\n",
       "      <th></th>\n",
       "      <th>Unnamed: 0</th>\n",
       "      <th>0</th>\n",
       "    </tr>\n",
       "  </thead>\n",
       "  <tbody>\n",
       "    <tr>\n",
       "      <th>0</th>\n",
       "      <td>0</td>\n",
       "      <td>benjamin netanyahu “beat them up not once but ...</td>\n",
       "    </tr>\n",
       "    <tr>\n",
       "      <th>1</th>\n",
       "      <td>1</td>\n",
       "      <td>joke of the day war criminal benjamin netanyah...</td>\n",
       "    </tr>\n",
       "    <tr>\n",
       "      <th>3</th>\n",
       "      <td>3</td>\n",
       "      <td>a casi dos años del término de su mandato ben...</td>\n",
       "    </tr>\n",
       "    <tr>\n",
       "      <th>4</th>\n",
       "      <td>4</td>\n",
       "      <td>a aliança política de benjamin netanyahu conqu...</td>\n",
       "    </tr>\n",
       "    <tr>\n",
       "      <th>5</th>\n",
       "      <td>5</td>\n",
       "      <td>israels election happened on tuesday the resul...</td>\n",
       "    </tr>\n",
       "    <tr>\n",
       "      <th>...</th>\n",
       "      <td>...</td>\n",
       "      <td>...</td>\n",
       "    </tr>\n",
       "    <tr>\n",
       "      <th>106</th>\n",
       "      <td>106</td>\n",
       "      <td>prime minister yair lapid conceded israel’s el...</td>\n",
       "    </tr>\n",
       "    <tr>\n",
       "      <th>107</th>\n",
       "      <td>107</td>\n",
       "      <td>”praying for our success tomorrow”  benjamin n...</td>\n",
       "    </tr>\n",
       "    <tr>\n",
       "      <th>108</th>\n",
       "      <td>108</td>\n",
       "      <td>benjamin netanyahu is reclaiming his seat that...</td>\n",
       "    </tr>\n",
       "    <tr>\n",
       "      <th>109</th>\n",
       "      <td>109</td>\n",
       "      <td>benjamin netanyahu is currently before the cou...</td>\n",
       "    </tr>\n",
       "    <tr>\n",
       "      <th>110</th>\n",
       "      <td>110</td>\n",
       "      <td>the vote counting finished following tuesdays ...</td>\n",
       "    </tr>\n",
       "  </tbody>\n",
       "</table>\n",
       "<p>110 rows × 2 columns</p>\n",
       "</div>"
      ],
      "text/plain": [
       "     Unnamed: 0                                                  0\n",
       "0             0  benjamin netanyahu “beat them up not once but ...\n",
       "1             1  joke of the day war criminal benjamin netanyah...\n",
       "3             3   a casi dos años del término de su mandato ben...\n",
       "4             4  a aliança política de benjamin netanyahu conqu...\n",
       "5             5  israels election happened on tuesday the resul...\n",
       "..          ...                                                ...\n",
       "106         106  prime minister yair lapid conceded israel’s el...\n",
       "107         107  ”praying for our success tomorrow”  benjamin n...\n",
       "108         108  benjamin netanyahu is reclaiming his seat that...\n",
       "109         109  benjamin netanyahu is currently before the cou...\n",
       "110         110  the vote counting finished following tuesdays ...\n",
       "\n",
       "[110 rows x 2 columns]"
      ]
     },
     "execution_count": 40,
     "metadata": {},
     "output_type": "execute_result"
    }
   ],
   "source": [
    "twitter_tweets"
   ]
  },
  {
   "cell_type": "code",
   "execution_count": 41,
   "id": "f5647eef",
   "metadata": {},
   "outputs": [],
   "source": [
    "from nltk.sentiment.vader import SentimentIntensityAnalyzer"
   ]
  },
  {
   "cell_type": "code",
   "execution_count": 57,
   "id": "e5cee615",
   "metadata": {},
   "outputs": [],
   "source": [
    "scores = pd.DataFrame([{'negative':0, 'positive': 0}])"
   ]
  },
  {
   "cell_type": "code",
   "execution_count": 59,
   "id": "f57b6545",
   "metadata": {},
   "outputs": [],
   "source": [
    "for i in twitter_tweets['0']:\n",
    "    score = SentimentIntensityAnalyzer().polarity_scores(i)\n",
    "    if score['neg'] > score['pos']:\n",
    "        scores['negative'][0] +=1\n",
    "    elif score['neg'] < score['pos']:\n",
    "        scores['positive'][0] +=1\n"
   ]
  },
  {
   "cell_type": "code",
   "execution_count": 60,
   "id": "91684d38",
   "metadata": {},
   "outputs": [
    {
     "data": {
      "text/html": [
       "<div>\n",
       "<style scoped>\n",
       "    .dataframe tbody tr th:only-of-type {\n",
       "        vertical-align: middle;\n",
       "    }\n",
       "\n",
       "    .dataframe tbody tr th {\n",
       "        vertical-align: top;\n",
       "    }\n",
       "\n",
       "    .dataframe thead th {\n",
       "        text-align: right;\n",
       "    }\n",
       "</style>\n",
       "<table border=\"1\" class=\"dataframe\">\n",
       "  <thead>\n",
       "    <tr style=\"text-align: right;\">\n",
       "      <th></th>\n",
       "      <th>negative</th>\n",
       "      <th>positive</th>\n",
       "    </tr>\n",
       "  </thead>\n",
       "  <tbody>\n",
       "    <tr>\n",
       "      <th>0</th>\n",
       "      <td>20</td>\n",
       "      <td>71</td>\n",
       "    </tr>\n",
       "  </tbody>\n",
       "</table>\n",
       "</div>"
      ],
      "text/plain": [
       "   negative  positive\n",
       "0        20        71"
      ]
     },
     "execution_count": 60,
     "metadata": {},
     "output_type": "execute_result"
    }
   ],
   "source": [
    "scores"
   ]
  },
  {
   "cell_type": "code",
   "execution_count": 64,
   "id": "da988a50",
   "metadata": {},
   "outputs": [
    {
     "data": {
      "image/png": "[encoded data removed]",
      "text/plain": [
       "<Figure size 640x480 with 1 Axes>"
      ]
     },
     "metadata": {},
     "output_type": "display_data"
    }
   ],
   "source": [
    "import matplotlib.pyplot as plt\n",
    "\n",
    "fig, ax1 = plt.subplots()\n",
    "ax1.bar(['negative','positive'],[scores['negative'][0],scores['positive'][0]])\n",
    "fig.autofmt_xdate()\n",
    "plt.savefig('graph.png')\n",
    "plt.show()"
   ]
  },
  {
   "cell_type": "code",
   "execution_count": null,
   "id": "268e7f3a",
   "metadata": {},
   "outputs": [],
   "source": []
  }
 ],
 "metadata": {
  "kernelspec": {
   "display_name": "Python 3 (ipykernel)",
   "language": "python",
   "name": "python3"
  },
  "language_info": {
   "codemirror_mode": {
    "name": "ipython",
    "version": 3
   },
   "file_extension": ".py",
   "mimetype": "text/x-python",
   "name": "python",
   "nbconvert_exporter": "python",
   "pygments_lexer": "ipython3",
   "version": "3.9.13"
  }
 },
 "nbformat": 4,
 "nbformat_minor": 5
}
