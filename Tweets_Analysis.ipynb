{
 "cells": [
  {
   "cell_type": "code",
   "execution_count": 66,
   "id": "916dca96",
   "metadata": {},
   "outputs": [],
   "source": [
    "import pandas as pd\n",
    "import numpy as np"
   ]
  },
  {
   "cell_type": "code",
   "execution_count": 67,
   "id": "351f7a01",
   "metadata": {},
   "outputs": [],
   "source": [
    "twitter_tweets = pd.read_csv('tweets.csv')"
   ]
  },
  {
   "cell_type": "code",
   "execution_count": 68,
   "id": "e915e3a9",
   "metadata": {},
   "outputs": [
    {
     "data": {
      "text/html": [
       "<div>\n",
       "<style scoped>\n",
       "    .dataframe tbody tr th:only-of-type {\n",
       "        vertical-align: middle;\n",
       "    }\n",
       "\n",
       "    .dataframe tbody tr th {\n",
       "        vertical-align: top;\n",
       "    }\n",
       "\n",
       "    .dataframe thead th {\n",
       "        text-align: right;\n",
       "    }\n",
       "</style>\n",
       "<table border=\"1\" class=\"dataframe\">\n",
       "  <thead>\n",
       "    <tr style=\"text-align: right;\">\n",
       "      <th></th>\n",
       "      <th>Unnamed: 0</th>\n",
       "      <th>0</th>\n",
       "    </tr>\n",
       "  </thead>\n",
       "  <tbody>\n",
       "    <tr>\n",
       "      <th>0</th>\n",
       "      <td>0</td>\n",
       "      <td>| Les résultats des demi-finales des électi...</td>\n",
       "    </tr>\n",
       "    <tr>\n",
       "      <th>1</th>\n",
       "      <td>1</td>\n",
       "      <td>نتائج شبه نهائية للانتخابات الإسرائيلية تؤكد ف...</td>\n",
       "    </tr>\n",
       "    <tr>\n",
       "      <th>2</th>\n",
       "      <td>2</td>\n",
       "      <td>This Saturday, join Jane, Donné, Christie, and...</td>\n",
       "    </tr>\n",
       "    <tr>\n",
       "      <th>3</th>\n",
       "      <td>3</td>\n",
       "      <td>Mr. President:  Please call Benjamin Netanyahu...</td>\n",
       "    </tr>\n",
       "    <tr>\n",
       "      <th>4</th>\n",
       "      <td>4</td>\n",
       "      <td>OPINIÓN | \"Benjamin Netanyahu es capaz de agl...</td>\n",
       "    </tr>\n",
       "    <tr>\n",
       "      <th>5</th>\n",
       "      <td>5</td>\n",
       "      <td>La elección de Benjamín Netanyahu crea otro fo...</td>\n",
       "    </tr>\n",
       "    <tr>\n",
       "      <th>6</th>\n",
       "      <td>6</td>\n",
       "      <td>This is why Benjamin Netanyahu is involved in ...</td>\n",
       "    </tr>\n",
       "    <tr>\n",
       "      <th>7</th>\n",
       "      <td>7</td>\n",
       "      <td>Parabéns ao Benjamin \\n@Netanyahu\\n pela retom...</td>\n",
       "    </tr>\n",
       "    <tr>\n",
       "      <th>8</th>\n",
       "      <td>8</td>\n",
       "      <td>You gave us Benjamin Netanyahu, Menachem Begin...</td>\n",
       "    </tr>\n",
       "    <tr>\n",
       "      <th>9</th>\n",
       "      <td>9</td>\n",
       "      <td>Benjamin Netanyahu, Israel's comeback leader “...</td>\n",
       "    </tr>\n",
       "  </tbody>\n",
       "</table>\n",
       "</div>"
      ],
      "text/plain": [
       "   Unnamed: 0                                                  0\n",
       "0           0     | Les résultats des demi-finales des électi...\n",
       "1           1  نتائج شبه نهائية للانتخابات الإسرائيلية تؤكد ف...\n",
       "2           2  This Saturday, join Jane, Donné, Christie, and...\n",
       "3           3  Mr. President:  Please call Benjamin Netanyahu...\n",
       "4           4   OPINIÓN | \"Benjamin Netanyahu es capaz de agl...\n",
       "5           5  La elección de Benjamín Netanyahu crea otro fo...\n",
       "6           6  This is why Benjamin Netanyahu is involved in ...\n",
       "7           7  Parabéns ao Benjamin \\n@Netanyahu\\n pela retom...\n",
       "8           8  You gave us Benjamin Netanyahu, Menachem Begin...\n",
       "9           9  Benjamin Netanyahu, Israel's comeback leader “..."
      ]
     },
     "execution_count": 68,
     "metadata": {},
     "output_type": "execute_result"
    }
   ],
   "source": [
    "twitter_tweets[0:10]"
   ]
  },
  {
   "cell_type": "code",
   "execution_count": 69,
   "id": "3db87dbf",
   "metadata": {},
   "outputs": [
    {
     "data": {
      "text/plain": [
       "Unnamed: 0    0\n",
       "0             0\n",
       "dtype: int64"
      ]
     },
     "execution_count": 69,
     "metadata": {},
     "output_type": "execute_result"
    }
   ],
   "source": [
    "twitter_tweets.isnull().sum()"
   ]
  },
  {
   "cell_type": "code",
   "execution_count": 70,
   "id": "cced059e",
   "metadata": {},
   "outputs": [],
   "source": [
    "twitter_tweets = twitter_tweets.dropna()"
   ]
  },
  {
   "cell_type": "code",
   "execution_count": 71,
   "id": "702938ea",
   "metadata": {},
   "outputs": [],
   "source": [
    "def convert_lowercase(column):\n",
    "    column = column.str.lower()\n",
    "    return column"
   ]
  },
  {
   "cell_type": "code",
   "execution_count": 72,
   "id": "bb49ccd4",
   "metadata": {},
   "outputs": [
    {
     "data": {
      "text/html": [
       "<div>\n",
       "<style scoped>\n",
       "    .dataframe tbody tr th:only-of-type {\n",
       "        vertical-align: middle;\n",
       "    }\n",
       "\n",
       "    .dataframe tbody tr th {\n",
       "        vertical-align: top;\n",
       "    }\n",
       "\n",
       "    .dataframe thead th {\n",
       "        text-align: right;\n",
       "    }\n",
       "</style>\n",
       "<table border=\"1\" class=\"dataframe\">\n",
       "  <thead>\n",
       "    <tr style=\"text-align: right;\">\n",
       "      <th></th>\n",
       "      <th>Unnamed: 0</th>\n",
       "      <th>0</th>\n",
       "    </tr>\n",
       "  </thead>\n",
       "  <tbody>\n",
       "    <tr>\n",
       "      <th>0</th>\n",
       "      <td>0</td>\n",
       "      <td>| les résultats des demi-finales des électi...</td>\n",
       "    </tr>\n",
       "    <tr>\n",
       "      <th>1</th>\n",
       "      <td>1</td>\n",
       "      <td>نتائج شبه نهائية للانتخابات الإسرائيلية تؤكد ف...</td>\n",
       "    </tr>\n",
       "    <tr>\n",
       "      <th>2</th>\n",
       "      <td>2</td>\n",
       "      <td>this saturday, join jane, donné, christie, and...</td>\n",
       "    </tr>\n",
       "    <tr>\n",
       "      <th>3</th>\n",
       "      <td>3</td>\n",
       "      <td>mr. president:  please call benjamin netanyahu...</td>\n",
       "    </tr>\n",
       "    <tr>\n",
       "      <th>4</th>\n",
       "      <td>4</td>\n",
       "      <td>opinión | \"benjamin netanyahu es capaz de agl...</td>\n",
       "    </tr>\n",
       "    <tr>\n",
       "      <th>...</th>\n",
       "      <td>...</td>\n",
       "      <td>...</td>\n",
       "    </tr>\n",
       "    <tr>\n",
       "      <th>260</th>\n",
       "      <td>260</td>\n",
       "      <td>an aerial unit has successfully gave a lapdanc...</td>\n",
       "    </tr>\n",
       "    <tr>\n",
       "      <th>261</th>\n",
       "      <td>261</td>\n",
       "      <td>thank u my father god according to my prayer o...</td>\n",
       "    </tr>\n",
       "    <tr>\n",
       "      <th>262</th>\n",
       "      <td>262</td>\n",
       "      <td>regreso al poder el carnicero de benjamin neta...</td>\n",
       "    </tr>\n",
       "    <tr>\n",
       "      <th>263</th>\n",
       "      <td>263</td>\n",
       "      <td>en estos momentos, israel está bombardeando nu...</td>\n",
       "    </tr>\n",
       "    <tr>\n",
       "      <th>264</th>\n",
       "      <td>264</td>\n",
       "      <td>thank u my father god according to my prayer o...</td>\n",
       "    </tr>\n",
       "  </tbody>\n",
       "</table>\n",
       "<p>265 rows × 2 columns</p>\n",
       "</div>"
      ],
      "text/plain": [
       "     Unnamed: 0                                                  0\n",
       "0             0     | les résultats des demi-finales des électi...\n",
       "1             1  نتائج شبه نهائية للانتخابات الإسرائيلية تؤكد ف...\n",
       "2             2  this saturday, join jane, donné, christie, and...\n",
       "3             3  mr. president:  please call benjamin netanyahu...\n",
       "4             4   opinión | \"benjamin netanyahu es capaz de agl...\n",
       "..          ...                                                ...\n",
       "260         260  an aerial unit has successfully gave a lapdanc...\n",
       "261         261  thank u my father god according to my prayer o...\n",
       "262         262  regreso al poder el carnicero de benjamin neta...\n",
       "263         263  en estos momentos, israel está bombardeando nu...\n",
       "264         264  thank u my father god according to my prayer o...\n",
       "\n",
       "[265 rows x 2 columns]"
      ]
     },
     "execution_count": 72,
     "metadata": {},
     "output_type": "execute_result"
    }
   ],
   "source": [
    "twitter_tweets['0'] = convert_lowercase(twitter_tweets['0'])\n",
    "twitter_tweets"
   ]
  },
  {
   "cell_type": "code",
   "execution_count": 73,
   "id": "1ecf849a",
   "metadata": {},
   "outputs": [],
   "source": [
    "import string\n",
    "exclude = string.punctuation\n",
    "\n",
    "def remove_punc(text):\n",
    "    return text.translate(str.maketrans('', '', exclude))"
   ]
  },
  {
   "cell_type": "code",
   "execution_count": 74,
   "id": "ba49f2f8",
   "metadata": {},
   "outputs": [
    {
     "data": {
      "text/plain": [
       "0         | les résultats des demi-finales des électi...\n",
       "1      نتائج شبه نهائية للانتخابات الإسرائيلية تؤكد ف...\n",
       "2      this saturday, join jane, donné, christie, and...\n",
       "3      mr. president:  please call benjamin netanyahu...\n",
       "4       opinión | \"benjamin netanyahu es capaz de agl...\n",
       "                             ...                        \n",
       "260    an aerial unit has successfully gave a lapdanc...\n",
       "261    thank u my father god according to my prayer o...\n",
       "262    regreso al poder el carnicero de benjamin neta...\n",
       "263    en estos momentos, israel está bombardeando nu...\n",
       "264    thank u my father god according to my prayer o...\n",
       "Name: 0, Length: 265, dtype: object"
      ]
     },
     "execution_count": 74,
     "metadata": {},
     "output_type": "execute_result"
    }
   ],
   "source": [
    "twitter_tweets['0']"
   ]
  },
  {
   "cell_type": "code",
   "execution_count": 75,
   "id": "df7a207f",
   "metadata": {},
   "outputs": [
    {
     "name": "stderr",
     "output_type": "stream",
     "text": [
      "/tmp/ipykernel_62782/3799092608.py:1: FutureWarning: The default value of regex will change from True to False in a future version.\n",
      "  twitter_tweets['0'] = twitter_tweets['0'].str.replace('[{}]'.format(string.punctuation), '')\n"
     ]
    }
   ],
   "source": [
    "twitter_tweets['0'] = twitter_tweets['0'].str.replace('[{}]'.format(string.punctuation), '')"
   ]
  },
  {
   "cell_type": "code",
   "execution_count": 76,
   "id": "560219b8",
   "metadata": {},
   "outputs": [
    {
     "data": {
      "text/html": [
       "<div>\n",
       "<style scoped>\n",
       "    .dataframe tbody tr th:only-of-type {\n",
       "        vertical-align: middle;\n",
       "    }\n",
       "\n",
       "    .dataframe tbody tr th {\n",
       "        vertical-align: top;\n",
       "    }\n",
       "\n",
       "    .dataframe thead th {\n",
       "        text-align: right;\n",
       "    }\n",
       "</style>\n",
       "<table border=\"1\" class=\"dataframe\">\n",
       "  <thead>\n",
       "    <tr style=\"text-align: right;\">\n",
       "      <th></th>\n",
       "      <th>Unnamed: 0</th>\n",
       "      <th>0</th>\n",
       "    </tr>\n",
       "  </thead>\n",
       "  <tbody>\n",
       "    <tr>\n",
       "      <th>0</th>\n",
       "      <td>0</td>\n",
       "      <td>les résultats des demifinales des élection...</td>\n",
       "    </tr>\n",
       "    <tr>\n",
       "      <th>1</th>\n",
       "      <td>1</td>\n",
       "      <td>نتائج شبه نهائية للانتخابات الإسرائيلية تؤكد ف...</td>\n",
       "    </tr>\n",
       "    <tr>\n",
       "      <th>2</th>\n",
       "      <td>2</td>\n",
       "      <td>this saturday join jane donné christie and doo...</td>\n",
       "    </tr>\n",
       "    <tr>\n",
       "      <th>3</th>\n",
       "      <td>3</td>\n",
       "      <td>mr president  please call benjamin netanyahu a...</td>\n",
       "    </tr>\n",
       "    <tr>\n",
       "      <th>4</th>\n",
       "      <td>4</td>\n",
       "      <td>opinión  benjamin netanyahu es capaz de aglut...</td>\n",
       "    </tr>\n",
       "    <tr>\n",
       "      <th>...</th>\n",
       "      <td>...</td>\n",
       "      <td>...</td>\n",
       "    </tr>\n",
       "    <tr>\n",
       "      <th>260</th>\n",
       "      <td>260</td>\n",
       "      <td>an aerial unit has successfully gave a lapdanc...</td>\n",
       "    </tr>\n",
       "    <tr>\n",
       "      <th>261</th>\n",
       "      <td>261</td>\n",
       "      <td>thank u my father god according to my prayer o...</td>\n",
       "    </tr>\n",
       "    <tr>\n",
       "      <th>262</th>\n",
       "      <td>262</td>\n",
       "      <td>regreso al poder el carnicero de benjamin neta...</td>\n",
       "    </tr>\n",
       "    <tr>\n",
       "      <th>263</th>\n",
       "      <td>263</td>\n",
       "      <td>en estos momentos israel está bombardeando nue...</td>\n",
       "    </tr>\n",
       "    <tr>\n",
       "      <th>264</th>\n",
       "      <td>264</td>\n",
       "      <td>thank u my father god according to my prayer o...</td>\n",
       "    </tr>\n",
       "  </tbody>\n",
       "</table>\n",
       "<p>265 rows × 2 columns</p>\n",
       "</div>"
      ],
      "text/plain": [
       "     Unnamed: 0                                                  0\n",
       "0             0      les résultats des demifinales des élection...\n",
       "1             1  نتائج شبه نهائية للانتخابات الإسرائيلية تؤكد ف...\n",
       "2             2  this saturday join jane donné christie and doo...\n",
       "3             3  mr president  please call benjamin netanyahu a...\n",
       "4             4   opinión  benjamin netanyahu es capaz de aglut...\n",
       "..          ...                                                ...\n",
       "260         260  an aerial unit has successfully gave a lapdanc...\n",
       "261         261  thank u my father god according to my prayer o...\n",
       "262         262  regreso al poder el carnicero de benjamin neta...\n",
       "263         263  en estos momentos israel está bombardeando nue...\n",
       "264         264  thank u my father god according to my prayer o...\n",
       "\n",
       "[265 rows x 2 columns]"
      ]
     },
     "execution_count": 76,
     "metadata": {},
     "output_type": "execute_result"
    }
   ],
   "source": [
    "twitter_tweets"
   ]
  },
  {
   "cell_type": "code",
   "execution_count": 77,
   "id": "f5647eef",
   "metadata": {},
   "outputs": [],
   "source": [
    "from nltk.sentiment.vader import SentimentIntensityAnalyzer"
   ]
  },
  {
   "cell_type": "code",
   "execution_count": 80,
   "id": "e5cee615",
   "metadata": {},
   "outputs": [],
   "source": [
    "scores = {'negative': 0, 'positive': 0}"
   ]
  },
  {
   "cell_type": "code",
   "execution_count": 81,
   "id": "f57b6545",
   "metadata": {},
   "outputs": [],
   "source": [
    "for i in twitter_tweets['0']:\n",
    "    score = SentimentIntensityAnalyzer().polarity_scores(i)\n",
    "    if score['neg'] > score['pos']:\n",
    "        scores['negative'] += 1\n",
    "    elif score['neg'] < score['pos']:\n",
    "        scores['positive'] +=1\n"
   ]
  },
  {
   "cell_type": "code",
   "execution_count": 85,
   "id": "9e088faf",
   "metadata": {},
   "outputs": [
    {
     "data": {
      "text/plain": [
       "dict_values([47, 113])"
      ]
     },
     "execution_count": 85,
     "metadata": {},
     "output_type": "execute_result"
    }
   ],
   "source": [
    "scores.values()"
   ]
  },
  {
   "cell_type": "code",
   "execution_count": 86,
   "id": "da988a50",
   "metadata": {},
   "outputs": [
    {
     "data": {
      "image/png": "[encoded data removed]",
      "text/plain": [
       "<Figure size 640x480 with 1 Axes>"
      ]
     },
     "metadata": {},
     "output_type": "display_data"
    }
   ],
   "source": [
    "import matplotlib.pyplot as plt\n",
    "\n",
    "fig, ax1 = plt.subplots()\n",
    "ax1.bar(scores.keys(),scores.values())\n",
    "fig.autofmt_xdate()\n",
    "plt.savefig('graph.png')\n",
    "plt.show()"
   ]
  },
  {
   "cell_type": "code",
   "execution_count": null,
   "id": "268e7f3a",
   "metadata": {},
   "outputs": [],
   "source": []
  }
 ],
 "metadata": {
  "kernelspec": {
   "display_name": "Python 3 (ipykernel)",
   "language": "python",
   "name": "python3"
  },
  "language_info": {
   "codemirror_mode": {
    "name": "ipython",
    "version": 3
   },
   "file_extension": ".py",
   "mimetype": "text/x-python",
   "name": "python",
   "nbconvert_exporter": "python",
   "pygments_lexer": "ipython3",
   "version": "3.9.13"
  },
  "vscode": {
   "interpreter": {
    "hash": "916dbcbb3f70747c44a77c7bcd40155683ae19c65e1c03b4aa3499c5328201f1"
   }
  }
 },
 "nbformat": 4,
 "nbformat_minor": 5
}
